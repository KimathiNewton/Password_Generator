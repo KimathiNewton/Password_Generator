{
 "cells": [
  {
   "cell_type": "markdown",
   "id": "c8d4ed78",
   "metadata": {},
   "source": [
    "Evergarden produce Ltd is setting up a new online platform for its customers to access their accounts and manage their information. The company would need to create many user accounts for its customers, and each customer would need a unique and secure password to access their account.\n",
    "Manually creating and assigning passwords for each customer would be a tedious and error-prone process with a customer size 1 million. To automate this process, the company has asked you to develop a program that generate customer password.\n",
    "The customer should specify the count of letters, symbols and numbers they want in their password. The program randomly mix letters, symbol and numbers to make up the password. Store the password and customer name in a dictionary."
   ]
  },
  {
   "cell_type": "code",
   "execution_count": null,
   "id": "caa0083a",
   "metadata": {},
   "outputs": [],
   "source": [
    "#Specify the count of letters,symbols and numbers in their password\n",
    "#Randomly mix letters,symbol and numbers to make the password\n",
    "#Store the password and name in a dictionary\n"
   ]
  },
  {
   "cell_type": "code",
   "execution_count": 2,
   "id": "6089eddc",
   "metadata": {},
   "outputs": [],
   "source": [
    "letters = ['A', 'B', 'C', 'D', 'E', 'F', 'G', 'H', 'I', 'J', 'K', 'L', 'M', \n",
    "                       'N', 'O', 'P', 'Q', 'R', 'S', 'T', 'U', 'V', 'W', 'X', 'Y', 'Z']\n"
   ]
  },
  {
   "cell_type": "code",
   "execution_count": 3,
   "id": "c59d7f82",
   "metadata": {},
   "outputs": [],
   "source": [
    "numbers = ['0', '1', '2', '3', '4', '5', '6', '7', '8', '9',]"
   ]
  },
  {
   "cell_type": "code",
   "execution_count": 4,
   "id": "910284c1",
   "metadata": {},
   "outputs": [],
   "source": [
    "symbols = ['@', '#', '$', '%', '&', '(', ')', '+', '!', '|', '_', '-']"
   ]
  },
  {
   "cell_type": "code",
   "execution_count": 40,
   "id": "9cdaff93",
   "metadata": {},
   "outputs": [
    {
     "name": "stdout",
     "output_type": "stream",
     "text": [
      "Please Enter your Name to Continue or 'Exit' : Newton\n",
      "How many letters do you want in your password?: 5\n",
      "How many numbers do you want in your password?: 5\n",
      "How many symbols do you want in your password?: 5\n",
      "JUMXX-!#+-91138\n",
      "1#-XJ!-+UX8193M\n",
      "{'Newton': 'JUMXX-!#+-91138'}\n",
      "Name       Password  \n",
      "Newton     JUMXX-!#+-91138\n",
      "Please Enter your Name to Continue or 'Exit' : Exit\n"
     ]
    }
   ],
   "source": [
    "import random\n",
    "\n",
    "\n",
    "customer_archive = {}\n",
    "should_continue = True\n",
    "\n",
    "while should_continue:\n",
    "\n",
    "    username = input(\"Please Enter your Name to Continue or 'Exit' : \")\n",
    "    \n",
    "    if username != \"Exit\" :\n",
    "\n",
    "\n",
    "\n",
    "        num_letters = int(input(\"How many letters do you want in your password?: \"))\n",
    "        num_numbers = int(input(\"How many numbers do you want in your password?: \"))\n",
    "        num_symbols = int(input(\"How many symbols do you want in your password?: \"))\n",
    "\n",
    "        selected_letters = \"\" #This one is to store the selected letter\n",
    "        for number in range(0,num_letters):\n",
    "            random_num = random.randint(0,len(letters)-1)#From A to z that is 0 to 25\n",
    "\n",
    "            selected_letter = letters[random_num] #Indexes a letter according to the random number generated\n",
    "\n",
    "            selected_letters +=selected_letter #MEans selected letters + selected_letter\n",
    "\n",
    "\n",
    "\n",
    "        selected_symbols =\"\"\n",
    "        for number in range(0,num_symbols):\n",
    "            random_num = random.randint(0,len(symbols)-1)#From A to z that is 0 to 25\n",
    "\n",
    "            selected_symbol = symbols[random_num] #Indexes a letter according to the random number generated\n",
    "\n",
    "            selected_symbols +=selected_symbol #MEans selected symbols + selected_symbol\n",
    "            #It concatenates the selected symbols\n",
    "\n",
    "\n",
    "\n",
    "        selected_numbers =\"\"\n",
    "        for number in range(0,num_numbers):\n",
    "            random_num = random.randint(0,len(numbers)-1)#From A to z that is 0 to 25\n",
    "\n",
    "            selected_number = numbers[random_num] #Indexes a letter according to the random number generated\n",
    "\n",
    "            selected_numbers +=selected_number #MEans selected letters + selected_letter\n",
    "\n",
    "\n",
    "\n",
    "        password = selected_letters + selected_symbols + selected_numbers\n",
    "\n",
    "        print(password)\n",
    "        password_list = [] #Create an empty list\n",
    "        #We go for the long method to split to password\n",
    "\n",
    "        #The first method could have been:\n",
    "        #password_list = password.split()\n",
    "\n",
    "        #The long process will be through the for loop\n",
    "\n",
    "        for item in password:\n",
    "            password_list.append(item) # THis is to add every item to our empty list\n",
    "        #Append will add the item in the end of the list\n",
    "\n",
    "#         print(password_list)\n",
    "\n",
    "        #Now we want to mix the everything, the letters and numbers and symbols to be mixed\n",
    "        random.shuffle(password_list) #Shuffle is a function in random library\n",
    "#         print(password_list)\n",
    "\n",
    "        #The longer way of shuffling\n",
    "        #You first have to create a list\n",
    "        #Type numbers in a disorganized order depending on the legnth of the password\n",
    "        #mixed_list = [2,5,3,13,7,22,51,6]\n",
    "        # shuffled_list = []\n",
    "        #for item in mixed_list:\n",
    "        #    shuffled_list += password_list[item]\n",
    "        #The for loop will pick an item in mixed_list,like two,and then goes to password_list and picks the one\n",
    "        #That is in position two\n",
    "\n",
    "\n",
    "        #The password is a list,but to want it to be a name\n",
    "        #We will use the for loop to add it an empty string\n",
    "        shuffled_pass = \"\"\n",
    "        for item in password_list:\n",
    "            shuffled_pass += item\n",
    "\n",
    "        print(shuffled_pass)\n",
    "        \n",
    "        user_info = {username:password}\n",
    "        \n",
    "        customer_archive.update(user_info)\n",
    "        \n",
    "        print(user_info)\n",
    "        print(\"{:<10} {:<10}\".format(\"Name\", \"Password\"))#THis is to print it in a good way\n",
    "        \n",
    "        #To access items in a dictionary using the for loop\n",
    "        \n",
    "        for key, value in customer_archive.items():\n",
    "            shuffled_password = value\n",
    "            print(\"{:<10} {:<10}\".format(username,shuffled_password))\n",
    "        \n",
    "    else:\n",
    "        should_continue = False\n",
    "        \n"
   ]
  },
  {
   "cell_type": "code",
   "execution_count": 48,
   "id": "1582affc",
   "metadata": {},
   "outputs": [
    {
     "data": {
      "text/plain": [
       "dict_items([('Newton', 'JUMXX-!#+-91138')])"
      ]
     },
     "execution_count": 48,
     "metadata": {},
     "output_type": "execute_result"
    }
   ],
   "source": [
    "#To access a key from a dictionary\n",
    "customer_archive.items()"
   ]
  },
  {
   "cell_type": "code",
   "execution_count": null,
   "id": "e40fbcde",
   "metadata": {},
   "outputs": [],
   "source": []
  },
  {
   "cell_type": "code",
   "execution_count": 13,
   "id": "8c6ff0e0",
   "metadata": {},
   "outputs": [],
   "source": []
  },
  {
   "cell_type": "code",
   "execution_count": 10,
   "id": "04459d11",
   "metadata": {},
   "outputs": [],
   "source": [
    "selected_letters +=selected_letter"
   ]
  },
  {
   "cell_type": "code",
   "execution_count": null,
   "id": "4ec1f436",
   "metadata": {},
   "outputs": [],
   "source": []
  },
  {
   "cell_type": "code",
   "execution_count": null,
   "id": "23c502e6",
   "metadata": {},
   "outputs": [],
   "source": []
  },
  {
   "cell_type": "code",
   "execution_count": null,
   "id": "94333b2e",
   "metadata": {},
   "outputs": [],
   "source": []
  },
  {
   "cell_type": "code",
   "execution_count": null,
   "id": "5d4a8659",
   "metadata": {},
   "outputs": [],
   "source": []
  },
  {
   "cell_type": "code",
   "execution_count": null,
   "id": "912defd1",
   "metadata": {},
   "outputs": [],
   "source": []
  },
  {
   "cell_type": "code",
   "execution_count": null,
   "id": "7fbd1075",
   "metadata": {},
   "outputs": [],
   "source": []
  },
  {
   "cell_type": "code",
   "execution_count": null,
   "id": "37af344b",
   "metadata": {},
   "outputs": [],
   "source": []
  },
  {
   "cell_type": "code",
   "execution_count": null,
   "id": "a35ead57",
   "metadata": {},
   "outputs": [],
   "source": []
  },
  {
   "cell_type": "code",
   "execution_count": null,
   "id": "fe6f6559",
   "metadata": {},
   "outputs": [],
   "source": []
  },
  {
   "cell_type": "code",
   "execution_count": null,
   "id": "763e5064",
   "metadata": {},
   "outputs": [],
   "source": []
  },
  {
   "cell_type": "code",
   "execution_count": null,
   "id": "39c91e2e",
   "metadata": {},
   "outputs": [],
   "source": []
  },
  {
   "cell_type": "code",
   "execution_count": null,
   "id": "bc28d0b4",
   "metadata": {},
   "outputs": [],
   "source": []
  }
 ],
 "metadata": {
  "kernelspec": {
   "display_name": "Python 3 (ipykernel)",
   "language": "python",
   "name": "python3"
  },
  "language_info": {
   "codemirror_mode": {
    "name": "ipython",
    "version": 3
   },
   "file_extension": ".py",
   "mimetype": "text/x-python",
   "name": "python",
   "nbconvert_exporter": "python",
   "pygments_lexer": "ipython3",
   "version": "3.10.9"
  }
 },
 "nbformat": 4,
 "nbformat_minor": 5
}
